{
  "cells": [
    {
      "cell_type": "markdown",
      "metadata": {
        "id": "view-in-github",
        "colab_type": "text"
      },
      "source": [
        "<a href=\"https://colab.research.google.com/github/WrightlyRong/ASL-Recognition-with-MNIST-ASL-and-Augmented-ASL-Alphabet-Dataset/blob/master/ASL_Recognition_with_MNIST_dataset.ipynb\" target=\"_parent\"><img src=\"https://colab.research.google.com/assets/colab-badge.svg\" alt=\"Open In Colab\"/></a>"
      ]
    },
    {
      "cell_type": "code",
      "execution_count": null,
      "metadata": {
        "colab": {
          "base_uri": "https://localhost:8080/"
        },
        "id": "Hx_tIqaTgmnH",
        "outputId": "f1b28d0d-0c03-4da0-84f3-59fd4fd396e0"
      },
      "outputs": [
        {
          "output_type": "stream",
          "name": "stdout",
          "text": [
            "Mounted at /gdrive\n"
          ]
        }
      ],
      "source": [
        "#Connect Google Drive\n",
        "from google.colab import drive\n",
        "drive.mount('/gdrive')"
      ]
    },
    {
      "cell_type": "code",
      "execution_count": null,
      "metadata": {
        "colab": {
          "base_uri": "https://localhost:8080/",
          "height": 299
        },
        "id": "H9-wh-aRo7Pk",
        "outputId": "a5ee0e31-1f84-467b-e993-3e47c4fd11d5"
      },
      "outputs": [
        {
          "output_type": "execute_result",
          "data": {
            "text/plain": [
              "   label  pixel1  pixel2  pixel3  pixel4  pixel5  pixel6  pixel7  pixel8  \\\n",
              "0      3     107     118     127     134     139     143     146     150   \n",
              "1      6     155     157     156     156     156     157     156     158   \n",
              "2      2     187     188     188     187     187     186     187     188   \n",
              "3      2     211     211     212     212     211     210     211     210   \n",
              "4     13     164     167     170     172     176     179     180     184   \n",
              "\n",
              "   pixel9  ...  pixel775  pixel776  pixel777  pixel778  pixel779  pixel780  \\\n",
              "0     153  ...       207       207       207       207       206       206   \n",
              "1     158  ...        69       149       128        87        94       163   \n",
              "2     187  ...       202       201       200       199       198       199   \n",
              "3     210  ...       235       234       233       231       230       226   \n",
              "4     185  ...        92       105       105       108       133       163   \n",
              "\n",
              "   pixel781  pixel782  pixel783  pixel784  \n",
              "0       206       204       203       202  \n",
              "1       175       103       135       149  \n",
              "2       198       195       194       195  \n",
              "3       225       222       229       163  \n",
              "4       157       163       164       179  \n",
              "\n",
              "[5 rows x 785 columns]"
            ],
            "text/html": [
              "\n",
              "  <div id=\"df-42e5d366-f8aa-4a70-98ab-5cdf26bf9ad4\">\n",
              "    <div class=\"colab-df-container\">\n",
              "      <div>\n",
              "<style scoped>\n",
              "    .dataframe tbody tr th:only-of-type {\n",
              "        vertical-align: middle;\n",
              "    }\n",
              "\n",
              "    .dataframe tbody tr th {\n",
              "        vertical-align: top;\n",
              "    }\n",
              "\n",
              "    .dataframe thead th {\n",
              "        text-align: right;\n",
              "    }\n",
              "</style>\n",
              "<table border=\"1\" class=\"dataframe\">\n",
              "  <thead>\n",
              "    <tr style=\"text-align: right;\">\n",
              "      <th></th>\n",
              "      <th>label</th>\n",
              "      <th>pixel1</th>\n",
              "      <th>pixel2</th>\n",
              "      <th>pixel3</th>\n",
              "      <th>pixel4</th>\n",
              "      <th>pixel5</th>\n",
              "      <th>pixel6</th>\n",
              "      <th>pixel7</th>\n",
              "      <th>pixel8</th>\n",
              "      <th>pixel9</th>\n",
              "      <th>...</th>\n",
              "      <th>pixel775</th>\n",
              "      <th>pixel776</th>\n",
              "      <th>pixel777</th>\n",
              "      <th>pixel778</th>\n",
              "      <th>pixel779</th>\n",
              "      <th>pixel780</th>\n",
              "      <th>pixel781</th>\n",
              "      <th>pixel782</th>\n",
              "      <th>pixel783</th>\n",
              "      <th>pixel784</th>\n",
              "    </tr>\n",
              "  </thead>\n",
              "  <tbody>\n",
              "    <tr>\n",
              "      <th>0</th>\n",
              "      <td>3</td>\n",
              "      <td>107</td>\n",
              "      <td>118</td>\n",
              "      <td>127</td>\n",
              "      <td>134</td>\n",
              "      <td>139</td>\n",
              "      <td>143</td>\n",
              "      <td>146</td>\n",
              "      <td>150</td>\n",
              "      <td>153</td>\n",
              "      <td>...</td>\n",
              "      <td>207</td>\n",
              "      <td>207</td>\n",
              "      <td>207</td>\n",
              "      <td>207</td>\n",
              "      <td>206</td>\n",
              "      <td>206</td>\n",
              "      <td>206</td>\n",
              "      <td>204</td>\n",
              "      <td>203</td>\n",
              "      <td>202</td>\n",
              "    </tr>\n",
              "    <tr>\n",
              "      <th>1</th>\n",
              "      <td>6</td>\n",
              "      <td>155</td>\n",
              "      <td>157</td>\n",
              "      <td>156</td>\n",
              "      <td>156</td>\n",
              "      <td>156</td>\n",
              "      <td>157</td>\n",
              "      <td>156</td>\n",
              "      <td>158</td>\n",
              "      <td>158</td>\n",
              "      <td>...</td>\n",
              "      <td>69</td>\n",
              "      <td>149</td>\n",
              "      <td>128</td>\n",
              "      <td>87</td>\n",
              "      <td>94</td>\n",
              "      <td>163</td>\n",
              "      <td>175</td>\n",
              "      <td>103</td>\n",
              "      <td>135</td>\n",
              "      <td>149</td>\n",
              "    </tr>\n",
              "    <tr>\n",
              "      <th>2</th>\n",
              "      <td>2</td>\n",
              "      <td>187</td>\n",
              "      <td>188</td>\n",
              "      <td>188</td>\n",
              "      <td>187</td>\n",
              "      <td>187</td>\n",
              "      <td>186</td>\n",
              "      <td>187</td>\n",
              "      <td>188</td>\n",
              "      <td>187</td>\n",
              "      <td>...</td>\n",
              "      <td>202</td>\n",
              "      <td>201</td>\n",
              "      <td>200</td>\n",
              "      <td>199</td>\n",
              "      <td>198</td>\n",
              "      <td>199</td>\n",
              "      <td>198</td>\n",
              "      <td>195</td>\n",
              "      <td>194</td>\n",
              "      <td>195</td>\n",
              "    </tr>\n",
              "    <tr>\n",
              "      <th>3</th>\n",
              "      <td>2</td>\n",
              "      <td>211</td>\n",
              "      <td>211</td>\n",
              "      <td>212</td>\n",
              "      <td>212</td>\n",
              "      <td>211</td>\n",
              "      <td>210</td>\n",
              "      <td>211</td>\n",
              "      <td>210</td>\n",
              "      <td>210</td>\n",
              "      <td>...</td>\n",
              "      <td>235</td>\n",
              "      <td>234</td>\n",
              "      <td>233</td>\n",
              "      <td>231</td>\n",
              "      <td>230</td>\n",
              "      <td>226</td>\n",
              "      <td>225</td>\n",
              "      <td>222</td>\n",
              "      <td>229</td>\n",
              "      <td>163</td>\n",
              "    </tr>\n",
              "    <tr>\n",
              "      <th>4</th>\n",
              "      <td>13</td>\n",
              "      <td>164</td>\n",
              "      <td>167</td>\n",
              "      <td>170</td>\n",
              "      <td>172</td>\n",
              "      <td>176</td>\n",
              "      <td>179</td>\n",
              "      <td>180</td>\n",
              "      <td>184</td>\n",
              "      <td>185</td>\n",
              "      <td>...</td>\n",
              "      <td>92</td>\n",
              "      <td>105</td>\n",
              "      <td>105</td>\n",
              "      <td>108</td>\n",
              "      <td>133</td>\n",
              "      <td>163</td>\n",
              "      <td>157</td>\n",
              "      <td>163</td>\n",
              "      <td>164</td>\n",
              "      <td>179</td>\n",
              "    </tr>\n",
              "  </tbody>\n",
              "</table>\n",
              "<p>5 rows × 785 columns</p>\n",
              "</div>\n",
              "      <button class=\"colab-df-convert\" onclick=\"convertToInteractive('df-42e5d366-f8aa-4a70-98ab-5cdf26bf9ad4')\"\n",
              "              title=\"Convert this dataframe to an interactive table.\"\n",
              "              style=\"display:none;\">\n",
              "        \n",
              "  <svg xmlns=\"http://www.w3.org/2000/svg\" height=\"24px\"viewBox=\"0 0 24 24\"\n",
              "       width=\"24px\">\n",
              "    <path d=\"M0 0h24v24H0V0z\" fill=\"none\"/>\n",
              "    <path d=\"M18.56 5.44l.94 2.06.94-2.06 2.06-.94-2.06-.94-.94-2.06-.94 2.06-2.06.94zm-11 1L8.5 8.5l.94-2.06 2.06-.94-2.06-.94L8.5 2.5l-.94 2.06-2.06.94zm10 10l.94 2.06.94-2.06 2.06-.94-2.06-.94-.94-2.06-.94 2.06-2.06.94z\"/><path d=\"M17.41 7.96l-1.37-1.37c-.4-.4-.92-.59-1.43-.59-.52 0-1.04.2-1.43.59L10.3 9.45l-7.72 7.72c-.78.78-.78 2.05 0 2.83L4 21.41c.39.39.9.59 1.41.59.51 0 1.02-.2 1.41-.59l7.78-7.78 2.81-2.81c.8-.78.8-2.07 0-2.86zM5.41 20L4 18.59l7.72-7.72 1.47 1.35L5.41 20z\"/>\n",
              "  </svg>\n",
              "      </button>\n",
              "      \n",
              "  <style>\n",
              "    .colab-df-container {\n",
              "      display:flex;\n",
              "      flex-wrap:wrap;\n",
              "      gap: 12px;\n",
              "    }\n",
              "\n",
              "    .colab-df-convert {\n",
              "      background-color: #E8F0FE;\n",
              "      border: none;\n",
              "      border-radius: 50%;\n",
              "      cursor: pointer;\n",
              "      display: none;\n",
              "      fill: #1967D2;\n",
              "      height: 32px;\n",
              "      padding: 0 0 0 0;\n",
              "      width: 32px;\n",
              "    }\n",
              "\n",
              "    .colab-df-convert:hover {\n",
              "      background-color: #E2EBFA;\n",
              "      box-shadow: 0px 1px 2px rgba(60, 64, 67, 0.3), 0px 1px 3px 1px rgba(60, 64, 67, 0.15);\n",
              "      fill: #174EA6;\n",
              "    }\n",
              "\n",
              "    [theme=dark] .colab-df-convert {\n",
              "      background-color: #3B4455;\n",
              "      fill: #D2E3FC;\n",
              "    }\n",
              "\n",
              "    [theme=dark] .colab-df-convert:hover {\n",
              "      background-color: #434B5C;\n",
              "      box-shadow: 0px 1px 3px 1px rgba(0, 0, 0, 0.15);\n",
              "      filter: drop-shadow(0px 1px 2px rgba(0, 0, 0, 0.3));\n",
              "      fill: #FFFFFF;\n",
              "    }\n",
              "  </style>\n",
              "\n",
              "      <script>\n",
              "        const buttonEl =\n",
              "          document.querySelector('#df-42e5d366-f8aa-4a70-98ab-5cdf26bf9ad4 button.colab-df-convert');\n",
              "        buttonEl.style.display =\n",
              "          google.colab.kernel.accessAllowed ? 'block' : 'none';\n",
              "\n",
              "        async function convertToInteractive(key) {\n",
              "          const element = document.querySelector('#df-42e5d366-f8aa-4a70-98ab-5cdf26bf9ad4');\n",
              "          const dataTable =\n",
              "            await google.colab.kernel.invokeFunction('convertToInteractive',\n",
              "                                                     [key], {});\n",
              "          if (!dataTable) return;\n",
              "\n",
              "          const docLinkHtml = 'Like what you see? Visit the ' +\n",
              "            '<a target=\"_blank\" href=https://colab.research.google.com/notebooks/data_table.ipynb>data table notebook</a>'\n",
              "            + ' to learn more about interactive tables.';\n",
              "          element.innerHTML = '';\n",
              "          dataTable['output_type'] = 'display_data';\n",
              "          await google.colab.output.renderOutput(dataTable, element);\n",
              "          const docLink = document.createElement('div');\n",
              "          docLink.innerHTML = docLinkHtml;\n",
              "          element.appendChild(docLink);\n",
              "        }\n",
              "      </script>\n",
              "    </div>\n",
              "  </div>\n",
              "  "
            ]
          },
          "metadata": {},
          "execution_count": 2
        }
      ],
      "source": [
        "import numpy as np\n",
        "import pandas as pd\n",
        "import string\n",
        "pd.options.mode.chained_assignment = None\n",
        "\n",
        "data = pd.read_csv(\"/gdrive/MyDrive/sign_mnist_train.csv\")\n",
        "\n",
        "data.head()"
      ]
    },
    {
      "cell_type": "code",
      "execution_count": null,
      "metadata": {
        "colab": {
          "base_uri": "https://localhost:8080/"
        },
        "id": "u4cf1poqwEJS",
        "outputId": "b15c2b65-a1df-4213-e0ff-5f16ab60a241"
      },
      "outputs": [
        {
          "output_type": "stream",
          "name": "stdout",
          "text": [
            "(27455, 784) (27455,)\n"
          ]
        }
      ],
      "source": [
        "Y = np.array(data['label'])\n",
        "X = np.array(data.drop(columns='label'))\n",
        "\n",
        "#X = X.reshape(X.shape[0] , 28,28, 1)\n",
        "print(X.shape, Y.shape)"
      ]
    },
    {
      "cell_type": "code",
      "execution_count": null,
      "metadata": {
        "colab": {
          "base_uri": "https://localhost:8080/",
          "height": 265
        },
        "id": "4zm3uXKk4fbV",
        "outputId": "7ada7177-1619-4646-a174-fc59cbbd2751"
      },
      "outputs": [
        {
          "output_type": "display_data",
          "data": {
            "text/plain": [
              "<Figure size 432x288 with 1 Axes>"
            ],
            "image/png": "[encoded data removed]"
          },
          "metadata": {
            "needs_background": "light"
          }
        },
        {
          "output_type": "stream",
          "name": "stdout",
          "text": [
            "1\n"
          ]
        }
      ],
      "source": [
        "import matplotlib.pyplot as plt\n",
        "import random\n",
        "r = random.randint(0,(21964-1))\n",
        "def show_img():\n",
        "  arr = np.array(X)\n",
        "  some_value = arr[r]\n",
        "  some_img = some_value.reshape(28,28)\n",
        "  plt.imshow(some_img, cmap=\"gray\")\n",
        "  plt.axis(\"off\")\n",
        "  plt.show()  \n",
        "\n",
        "show_img()\n",
        "print(Y[r])\n"
      ]
    },
    {
      "cell_type": "code",
      "execution_count": null,
      "metadata": {
        "colab": {
          "base_uri": "https://localhost:8080/"
        },
        "id": "MivCVRxMscpK",
        "outputId": "73c82f33-a01b-42ac-bc17-ca6e5db3f67d"
      },
      "outputs": [
        {
          "output_type": "stream",
          "name": "stdout",
          "text": [
            "Image sucessfully Downloaded:  signa.jpg\n"
          ]
        }
      ],
      "source": [
        "import requests\n",
        "import shutil\n",
        "\n",
        "url = 'https://challengepost-s3-challengepost.netdna-ssl.com/photos/production/software_photos/001/028/905/datas/original.jpg'\n",
        "file_name = 'signa.jpg'\n",
        "\n",
        "res = requests.get(url, stream = True)\n",
        "\n",
        "if res.status_code == 200:\n",
        "    with open(file_name,'wb') as f:\n",
        "        shutil.copyfileobj(res.raw, f)\n",
        "    print('Image sucessfully Downloaded: ',file_name)\n",
        "else:\n",
        "    print('Image Couldn\\'t be retrieved')"
      ]
    },
    {
      "cell_type": "code",
      "execution_count": null,
      "metadata": {
        "colab": {
          "base_uri": "https://localhost:8080/"
        },
        "id": "Lqr7yo2uoyGz",
        "outputId": "60e81899-e6e9-4d99-e65c-3c602346f0a1"
      },
      "outputs": [
        {
          "output_type": "stream",
          "name": "stdout",
          "text": [
            "<Response [200]>\n"
          ]
        }
      ],
      "source": [
        "print(res)\n"
      ]
    },
    {
      "cell_type": "code",
      "execution_count": null,
      "metadata": {
        "colab": {
          "base_uri": "https://localhost:8080/"
        },
        "id": "rX39-4qo8DxL",
        "outputId": "830f8e8c-e331-4507-e729-111946f8a46e"
      },
      "outputs": [
        {
          "output_type": "stream",
          "name": "stdout",
          "text": [
            "(27455, 24)\n"
          ]
        }
      ],
      "source": [
        "dummy_y = np.zeros( (27455, 24) )\n",
        "print(dummy_y.shape)\n",
        "\n",
        "for i in range(len(Y)):\n",
        "  dummy_y[i][Y[i]-1]=1\n"
      ]
    },
    {
      "cell_type": "code",
      "source": [
        ""
      ],
      "metadata": {
        "id": "sFoK_NO8dOFO"
      },
      "execution_count": null,
      "outputs": []
    },
    {
      "cell_type": "code",
      "execution_count": null,
      "metadata": {
        "colab": {
          "base_uri": "https://localhost:8080/"
        },
        "id": "ey3OBpX4OZuy",
        "outputId": "0674e786-c5ca-4f27-df3d-d1da822250b3"
      },
      "outputs": [
        {
          "output_type": "stream",
          "name": "stdout",
          "text": [
            "(27455, 28, 28, 1)\n"
          ]
        }
      ],
      "source": [
        "X_2 = pd.DataFrame(X).values.reshape(X.shape[0] ,28, 28, 1)\n",
        "print(X_2.shape)"
      ]
    },
    {
      "cell_type": "code",
      "execution_count": null,
      "metadata": {
        "colab": {
          "base_uri": "https://localhost:8080/"
        },
        "id": "4cGXGkqRPli8",
        "outputId": "953a24e9-c9b6-46fa-f1db-bb2e92c4e6db"
      },
      "outputs": [
        {
          "output_type": "stream",
          "name": "stdout",
          "text": [
            "(16473, 28, 28, 1)\n",
            "(16473, 24)\n",
            "(5491, 28, 28, 1)\n",
            "(5491, 24)\n",
            "(5491, 28, 28, 1)\n",
            "(5491, 24)\n"
          ]
        },
        {
          "output_type": "execute_result",
          "data": {
            "text/plain": [
              "(None, None)"
            ]
          },
          "metadata": {},
          "execution_count": 9
        }
      ],
      "source": [
        "from sklearn.model_selection import train_test_split\n",
        "X_train, X_rem, Y_train, y_rem = train_test_split(X_2,dummy_y, train_size=0.6)\n",
        "X_valid, X_test, Y_valid, Y_test = train_test_split(X_rem,y_rem, test_size=0.5)\n",
        "\n",
        "print(X_train.shape), print(Y_train.shape)\n",
        "print(X_valid.shape), print(Y_valid.shape)\n",
        "print(X_test.shape), print(Y_test.shape)"
      ]
    },
    {
      "cell_type": "code",
      "execution_count": null,
      "metadata": {
        "colab": {
          "base_uri": "https://localhost:8080/"
        },
        "id": "VfewwzlmQ8_W",
        "outputId": "db69a92c-7788-408e-cfcd-6f84651417c1"
      },
      "outputs": [
        {
          "output_type": "stream",
          "name": "stdout",
          "text": [
            "[[[0.5647059 ]\n",
            "  [0.5764706 ]\n",
            "  [0.5882353 ]\n",
            "  [0.6       ]\n",
            "  [0.6117647 ]\n",
            "  [0.62352943]\n",
            "  [0.6313726 ]\n",
            "  [0.63529414]\n",
            "  [0.6431373 ]\n",
            "  [0.6509804 ]\n",
            "  [0.654902  ]\n",
            "  [0.6627451 ]\n",
            "  [0.6627451 ]\n",
            "  [0.6666667 ]\n",
            "  [0.6627451 ]\n",
            "  [0.6627451 ]\n",
            "  [0.6627451 ]\n",
            "  [0.6627451 ]\n",
            "  [0.6627451 ]\n",
            "  [0.65882355]\n",
            "  [0.6627451 ]\n",
            "  [0.65882355]\n",
            "  [0.654902  ]\n",
            "  [0.654902  ]\n",
            "  [0.6509804 ]\n",
            "  [0.64705884]\n",
            "  [0.6431373 ]\n",
            "  [0.6392157 ]]\n",
            "\n",
            " [[0.5686275 ]\n",
            "  [0.58431375]\n",
            "  [0.6039216 ]\n",
            "  [0.6117647 ]\n",
            "  [0.61960787]\n",
            "  [0.6313726 ]\n",
            "  [0.63529414]\n",
            "  [0.6431373 ]\n",
            "  [0.6509804 ]\n",
            "  [0.65882355]\n",
            "  [0.6666667 ]\n",
            "  [0.6745098 ]\n",
            "  [0.67058825]\n",
            "  [0.67058825]\n",
            "  [0.6666667 ]\n",
            "  [0.6666667 ]\n",
            "  [0.6784314 ]\n",
            "  [0.67058825]\n",
            "  [0.67058825]\n",
            "  [0.6666667 ]\n",
            "  [0.6666667 ]\n",
            "  [0.67058825]\n",
            "  [0.6666667 ]\n",
            "  [0.65882355]\n",
            "  [0.65882355]\n",
            "  [0.654902  ]\n",
            "  [0.6509804 ]\n",
            "  [0.64705884]]\n",
            "\n",
            " [[0.5764706 ]\n",
            "  [0.6       ]\n",
            "  [0.6117647 ]\n",
            "  [0.61960787]\n",
            "  [0.627451  ]\n",
            "  [0.6313726 ]\n",
            "  [0.6431373 ]\n",
            "  [0.64705884]\n",
            "  [0.65882355]\n",
            "  [0.6745098 ]\n",
            "  [0.67058825]\n",
            "  [0.68235296]\n",
            "  [0.6666667 ]\n",
            "  [0.7254902 ]\n",
            "  [0.6901961 ]\n",
            "  [0.4745098 ]\n",
            "  [0.6862745 ]\n",
            "  [0.6784314 ]\n",
            "  [0.6784314 ]\n",
            "  [0.6784314 ]\n",
            "  [0.68235296]\n",
            "  [0.6784314 ]\n",
            "  [0.6745098 ]\n",
            "  [0.6666667 ]\n",
            "  [0.6627451 ]\n",
            "  [0.6627451 ]\n",
            "  [0.65882355]\n",
            "  [0.654902  ]]\n",
            "\n",
            " [[0.5882353 ]\n",
            "  [0.6117647 ]\n",
            "  [0.62352943]\n",
            "  [0.627451  ]\n",
            "  [0.63529414]\n",
            "  [0.64705884]\n",
            "  [0.6392157 ]\n",
            "  [0.7137255 ]\n",
            "  [0.627451  ]\n",
            "  [0.59607846]\n",
            "  [0.69411767]\n",
            "  [0.68235296]\n",
            "  [0.67058825]\n",
            "  [0.77254903]\n",
            "  [0.7137255 ]\n",
            "  [0.40784314]\n",
            "  [0.6745098 ]\n",
            "  [0.69411767]\n",
            "  [0.6862745 ]\n",
            "  [0.6745098 ]\n",
            "  [0.6509804 ]\n",
            "  [0.6901961 ]\n",
            "  [0.68235296]\n",
            "  [0.6784314 ]\n",
            "  [0.67058825]\n",
            "  [0.67058825]\n",
            "  [0.6666667 ]\n",
            "  [0.6666667 ]]\n",
            "\n",
            " [[0.5882353 ]\n",
            "  [0.60784316]\n",
            "  [0.627451  ]\n",
            "  [0.63529414]\n",
            "  [0.64705884]\n",
            "  [0.65882355]\n",
            "  [0.6431373 ]\n",
            "  [0.78039217]\n",
            "  [0.60784316]\n",
            "  [0.45882353]\n",
            "  [0.7176471 ]\n",
            "  [0.6901961 ]\n",
            "  [0.68235296]\n",
            "  [0.78039217]\n",
            "  [0.6901961 ]\n",
            "  [0.4392157 ]\n",
            "  [0.6784314 ]\n",
            "  [0.7019608 ]\n",
            "  [0.7058824 ]\n",
            "  [0.6901961 ]\n",
            "  [0.46666667]\n",
            "  [0.64705884]\n",
            "  [0.69803923]\n",
            "  [0.68235296]\n",
            "  [0.6784314 ]\n",
            "  [0.6745098 ]\n",
            "  [0.6745098 ]\n",
            "  [0.6745098 ]]\n",
            "\n",
            " [[0.6       ]\n",
            "  [0.6156863 ]\n",
            "  [0.63529414]\n",
            "  [0.64705884]\n",
            "  [0.65882355]\n",
            "  [0.6627451 ]\n",
            "  [0.654902  ]\n",
            "  [0.7607843 ]\n",
            "  [0.62352943]\n",
            "  [0.43529412]\n",
            "  [0.69411767]\n",
            "  [0.70980394]\n",
            "  [0.69411767]\n",
            "  [0.76862746]\n",
            "  [0.67058825]\n",
            "  [0.4509804 ]\n",
            "  [0.6862745 ]\n",
            "  [0.7019608 ]\n",
            "  [0.7294118 ]\n",
            "  [0.69803923]\n",
            "  [0.42745098]\n",
            "  [0.627451  ]\n",
            "  [0.70980394]\n",
            "  [0.6901961 ]\n",
            "  [0.6901961 ]\n",
            "  [0.6862745 ]\n",
            "  [0.68235296]\n",
            "  [0.6784314 ]]\n",
            "\n",
            " [[0.60784316]\n",
            "  [0.627451  ]\n",
            "  [0.6431373 ]\n",
            "  [0.65882355]\n",
            "  [0.6627451 ]\n",
            "  [0.6784314 ]\n",
            "  [0.6666667 ]\n",
            "  [0.7411765 ]\n",
            "  [0.7019608 ]\n",
            "  [0.43529412]\n",
            "  [0.63529414]\n",
            "  [0.7294118 ]\n",
            "  [0.7019608 ]\n",
            "  [0.7607843 ]\n",
            "  [0.7019608 ]\n",
            "  [0.49411765]\n",
            "  [0.6862745 ]\n",
            "  [0.7137255 ]\n",
            "  [0.7607843 ]\n",
            "  [0.69411767]\n",
            "  [0.43529412]\n",
            "  [0.65882355]\n",
            "  [0.7176471 ]\n",
            "  [0.7019608 ]\n",
            "  [0.69803923]\n",
            "  [0.69803923]\n",
            "  [0.69411767]\n",
            "  [0.6862745 ]]\n",
            "\n",
            " [[0.61960787]\n",
            "  [0.6392157 ]\n",
            "  [0.654902  ]\n",
            "  [0.6627451 ]\n",
            "  [0.67058825]\n",
            "  [0.68235296]\n",
            "  [0.68235296]\n",
            "  [0.7176471 ]\n",
            "  [0.76862746]\n",
            "  [0.50980395]\n",
            "  [0.5803922 ]\n",
            "  [0.7490196 ]\n",
            "  [0.70980394]\n",
            "  [0.7607843 ]\n",
            "  [0.7137255 ]\n",
            "  [0.5019608 ]\n",
            "  [0.6784314 ]\n",
            "  [0.73333335]\n",
            "  [0.7921569 ]\n",
            "  [0.67058825]\n",
            "  [0.44705883]\n",
            "  [0.69803923]\n",
            "  [0.7137255 ]\n",
            "  [0.70980394]\n",
            "  [0.7058824 ]\n",
            "  [0.7019608 ]\n",
            "  [0.7019608 ]\n",
            "  [0.7019608 ]]\n",
            "\n",
            " [[0.62352943]\n",
            "  [0.6431373 ]\n",
            "  [0.654902  ]\n",
            "  [0.6666667 ]\n",
            "  [0.6784314 ]\n",
            "  [0.6862745 ]\n",
            "  [0.69803923]\n",
            "  [0.7058824 ]\n",
            "  [0.80784315]\n",
            "  [0.6039216 ]\n",
            "  [0.52156866]\n",
            "  [0.74509805]\n",
            "  [0.72156864]\n",
            "  [0.7529412 ]\n",
            "  [0.69411767]\n",
            "  [0.49019608]\n",
            "  [0.6627451 ]\n",
            "  [0.7490196 ]\n",
            "  [0.81960785]\n",
            "  [0.6392157 ]\n",
            "  [0.47843137]\n",
            "  [0.7411765 ]\n",
            "  [0.7137255 ]\n",
            "  [0.7137255 ]\n",
            "  [0.7137255 ]\n",
            "  [0.70980394]\n",
            "  [0.7058824 ]\n",
            "  [0.7058824 ]]\n",
            "\n",
            " [[0.63529414]\n",
            "  [0.654902  ]\n",
            "  [0.6627451 ]\n",
            "  [0.6784314 ]\n",
            "  [0.6862745 ]\n",
            "  [0.69411767]\n",
            "  [0.70980394]\n",
            "  [0.69803923]\n",
            "  [0.8156863 ]\n",
            "  [0.63529414]\n",
            "  [0.44313726]\n",
            "  [0.7019608 ]\n",
            "  [0.74509805]\n",
            "  [0.75686276]\n",
            "  [0.7176471 ]\n",
            "  [0.48235294]\n",
            "  [0.6509804 ]\n",
            "  [0.77254903]\n",
            "  [0.80784315]\n",
            "  [0.5921569 ]\n",
            "  [0.5058824 ]\n",
            "  [0.7607843 ]\n",
            "  [0.7176471 ]\n",
            "  [0.7254902 ]\n",
            "  [0.7254902 ]\n",
            "  [0.7176471 ]\n",
            "  [0.7176471 ]\n",
            "  [0.7137255 ]]\n",
            "\n",
            " [[0.6392157 ]\n",
            "  [0.65882355]\n",
            "  [0.6745098 ]\n",
            "  [0.68235296]\n",
            "  [0.6901961 ]\n",
            "  [0.7019608 ]\n",
            "  [0.7176471 ]\n",
            "  [0.7019608 ]\n",
            "  [0.8156863 ]\n",
            "  [0.7764706 ]\n",
            "  [0.49019608]\n",
            "  [0.62352943]\n",
            "  [0.7607843 ]\n",
            "  [0.76862746]\n",
            "  [0.73333335]\n",
            "  [0.47843137]\n",
            "  [0.67058825]\n",
            "  [0.8117647 ]\n",
            "  [0.7921569 ]\n",
            "  [0.5058824 ]\n",
            "  [0.54901963]\n",
            "  [0.76862746]\n",
            "  [0.73333335]\n",
            "  [0.73333335]\n",
            "  [0.73333335]\n",
            "  [0.7254902 ]\n",
            "  [0.7254902 ]\n",
            "  [0.7176471 ]]\n",
            "\n",
            " [[0.6431373 ]\n",
            "  [0.6627451 ]\n",
            "  [0.68235296]\n",
            "  [0.6862745 ]\n",
            "  [0.69803923]\n",
            "  [0.7176471 ]\n",
            "  [0.7254902 ]\n",
            "  [0.7137255 ]\n",
            "  [0.77254903]\n",
            "  [0.85490197]\n",
            "  [0.59607846]\n",
            "  [0.5647059 ]\n",
            "  [0.77254903]\n",
            "  [0.7764706 ]\n",
            "  [0.69803923]\n",
            "  [0.46666667]\n",
            "  [0.7137255 ]\n",
            "  [0.85490197]\n",
            "  [0.7764706 ]\n",
            "  [0.44705883]\n",
            "  [0.627451  ]\n",
            "  [0.76862746]\n",
            "  [0.7411765 ]\n",
            "  [0.7411765 ]\n",
            "  [0.7372549 ]\n",
            "  [0.73333335]\n",
            "  [0.7254902 ]\n",
            "  [0.7254902 ]]\n",
            "\n",
            " [[0.654902  ]\n",
            "  [0.6745098 ]\n",
            "  [0.6862745 ]\n",
            "  [0.6901961 ]\n",
            "  [0.7058824 ]\n",
            "  [0.72156864]\n",
            "  [0.72156864]\n",
            "  [0.7607843 ]\n",
            "  [0.7882353 ]\n",
            "  [0.75686276]\n",
            "  [0.65882355]\n",
            "  [0.5529412 ]\n",
            "  [0.62352943]\n",
            "  [0.7411765 ]\n",
            "  [0.6901961 ]\n",
            "  [0.5137255 ]\n",
            "  [0.7764706 ]\n",
            "  [0.84313726]\n",
            "  [0.69803923]\n",
            "  [0.43137255]\n",
            "  [0.7254902 ]\n",
            "  [0.7607843 ]\n",
            "  [0.7490196 ]\n",
            "  [0.7490196 ]\n",
            "  [0.74509805]\n",
            "  [0.7411765 ]\n",
            "  [0.7372549 ]\n",
            "  [0.73333335]]\n",
            "\n",
            " [[0.65882355]\n",
            "  [0.6745098 ]\n",
            "  [0.6901961 ]\n",
            "  [0.7019608 ]\n",
            "  [0.7176471 ]\n",
            "  [0.7294118 ]\n",
            "  [0.7137255 ]\n",
            "  [0.8392157 ]\n",
            "  [0.8627451 ]\n",
            "  [0.7372549 ]\n",
            "  [0.78431374]\n",
            "  [0.7490196 ]\n",
            "  [0.6745098 ]\n",
            "  [0.56078434]\n",
            "  [0.65882355]\n",
            "  [0.78039217]\n",
            "  [0.7764706 ]\n",
            "  [0.78431374]\n",
            "  [0.59607846]\n",
            "  [0.4745098 ]\n",
            "  [0.7764706 ]\n",
            "  [0.75686276]\n",
            "  [0.75686276]\n",
            "  [0.75686276]\n",
            "  [0.7529412 ]\n",
            "  [0.74509805]\n",
            "  [0.7411765 ]\n",
            "  [0.7372549 ]]\n",
            "\n",
            " [[0.65882355]\n",
            "  [0.6784314 ]\n",
            "  [0.69803923]\n",
            "  [0.70980394]\n",
            "  [0.72156864]\n",
            "  [0.7294118 ]\n",
            "  [0.7254902 ]\n",
            "  [0.827451  ]\n",
            "  [0.85882354]\n",
            "  [0.59607846]\n",
            "  [0.7058824 ]\n",
            "  [0.89411765]\n",
            "  [0.7921569 ]\n",
            "  [0.5647059 ]\n",
            "  [0.42745098]\n",
            "  [0.69803923]\n",
            "  [0.7058824 ]\n",
            "  [0.70980394]\n",
            "  [0.49019608]\n",
            "  [0.54509807]\n",
            "  [0.7921569 ]\n",
            "  [0.7529412 ]\n",
            "  [0.7647059 ]\n",
            "  [0.7607843 ]\n",
            "  [0.75686276]\n",
            "  [0.7529412 ]\n",
            "  [0.7490196 ]\n",
            "  [0.74509805]]\n",
            "\n",
            " [[0.6627451 ]\n",
            "  [0.68235296]\n",
            "  [0.7058824 ]\n",
            "  [0.7176471 ]\n",
            "  [0.7254902 ]\n",
            "  [0.7372549 ]\n",
            "  [0.74509805]\n",
            "  [0.8039216 ]\n",
            "  [0.8117647 ]\n",
            "  [0.6509804 ]\n",
            "  [0.40784314]\n",
            "  [0.6862745 ]\n",
            "  [0.80784315]\n",
            "  [0.6862745 ]\n",
            "  [0.49019608]\n",
            "  [0.40784314]\n",
            "  [0.5647059 ]\n",
            "  [0.5686275 ]\n",
            "  [0.40392157]\n",
            "  [0.62352943]\n",
            "  [0.7921569 ]\n",
            "  [0.75686276]\n",
            "  [0.76862746]\n",
            "  [0.7647059 ]\n",
            "  [0.7647059 ]\n",
            "  [0.75686276]\n",
            "  [0.7529412 ]\n",
            "  [0.7529412 ]]\n",
            "\n",
            " [[0.6745098 ]\n",
            "  [0.6862745 ]\n",
            "  [0.7058824 ]\n",
            "  [0.7176471 ]\n",
            "  [0.73333335]\n",
            "  [0.74509805]\n",
            "  [0.7490196 ]\n",
            "  [0.8745098 ]\n",
            "  [0.8039216 ]\n",
            "  [0.7294118 ]\n",
            "  [0.47058824]\n",
            "  [0.3254902 ]\n",
            "  [0.6627451 ]\n",
            "  [0.80784315]\n",
            "  [0.6627451 ]\n",
            "  [0.44313726]\n",
            "  [0.38039216]\n",
            "  [0.4117647 ]\n",
            "  [0.36862746]\n",
            "  [0.7019608 ]\n",
            "  [0.79607844]\n",
            "  [0.77254903]\n",
            "  [0.77254903]\n",
            "  [0.7647059 ]\n",
            "  [0.7647059 ]\n",
            "  [0.7607843 ]\n",
            "  [0.7607843 ]\n",
            "  [0.75686276]]\n",
            "\n",
            " [[0.6784314 ]\n",
            "  [0.7019608 ]\n",
            "  [0.7176471 ]\n",
            "  [0.7254902 ]\n",
            "  [0.7372549 ]\n",
            "  [0.7490196 ]\n",
            "  [0.7647059 ]\n",
            "  [0.8784314 ]\n",
            "  [0.7254902 ]\n",
            "  [0.6       ]\n",
            "  [0.47058824]\n",
            "  [0.42352942]\n",
            "  [0.47843137]\n",
            "  [0.79607844]\n",
            "  [0.78431374]\n",
            "  [0.6039216 ]\n",
            "  [0.44313726]\n",
            "  [0.38039216]\n",
            "  [0.36862746]\n",
            "  [0.73333335]\n",
            "  [0.79607844]\n",
            "  [0.7764706 ]\n",
            "  [0.78039217]\n",
            "  [0.77254903]\n",
            "  [0.7647059 ]\n",
            "  [0.7607843 ]\n",
            "  [0.7607843 ]\n",
            "  [0.7607843 ]]\n",
            "\n",
            " [[0.6784314 ]\n",
            "  [0.7058824 ]\n",
            "  [0.7254902 ]\n",
            "  [0.7294118 ]\n",
            "  [0.7411765 ]\n",
            "  [0.7529412 ]\n",
            "  [0.7764706 ]\n",
            "  [0.8901961 ]\n",
            "  [0.7921569 ]\n",
            "  [0.63529414]\n",
            "  [0.5411765 ]\n",
            "  [0.57254905]\n",
            "  [0.5803922 ]\n",
            "  [0.8666667 ]\n",
            "  [0.8392157 ]\n",
            "  [0.6784314 ]\n",
            "  [0.5764706 ]\n",
            "  [0.40392157]\n",
            "  [0.36078432]\n",
            "  [0.75686276]\n",
            "  [0.7921569 ]\n",
            "  [0.78039217]\n",
            "  [0.7882353 ]\n",
            "  [0.78431374]\n",
            "  [0.76862746]\n",
            "  [0.7647059 ]\n",
            "  [0.7647059 ]\n",
            "  [0.7607843 ]]\n",
            "\n",
            " [[0.6862745 ]\n",
            "  [0.70980394]\n",
            "  [0.7294118 ]\n",
            "  [0.7372549 ]\n",
            "  [0.7490196 ]\n",
            "  [0.75686276]\n",
            "  [0.7764706 ]\n",
            "  [0.9137255 ]\n",
            "  [0.78039217]\n",
            "  [0.6156863 ]\n",
            "  [0.5686275 ]\n",
            "  [0.6313726 ]\n",
            "  [0.7647059 ]\n",
            "  [0.93333334]\n",
            "  [0.78431374]\n",
            "  [0.65882355]\n",
            "  [0.5647059 ]\n",
            "  [0.3764706 ]\n",
            "  [0.3647059 ]\n",
            "  [0.7882353 ]\n",
            "  [0.7921569 ]\n",
            "  [0.7882353 ]\n",
            "  [0.7882353 ]\n",
            "  [0.7882353 ]\n",
            "  [0.7764706 ]\n",
            "  [0.77254903]\n",
            "  [0.76862746]\n",
            "  [0.76862746]]\n",
            "\n",
            " [[0.6901961 ]\n",
            "  [0.7137255 ]\n",
            "  [0.7372549 ]\n",
            "  [0.7411765 ]\n",
            "  [0.7529412 ]\n",
            "  [0.7607843 ]\n",
            "  [0.78431374]\n",
            "  [0.9098039 ]\n",
            "  [0.7921569 ]\n",
            "  [0.6666667 ]\n",
            "  [0.6313726 ]\n",
            "  [0.6784314 ]\n",
            "  [0.8627451 ]\n",
            "  [0.9019608 ]\n",
            "  [0.7529412 ]\n",
            "  [0.5882353 ]\n",
            "  [0.50980395]\n",
            "  [0.35686275]\n",
            "  [0.44705883]\n",
            "  [0.827451  ]\n",
            "  [0.7882353 ]\n",
            "  [0.7921569 ]\n",
            "  [0.7921569 ]\n",
            "  [0.7882353 ]\n",
            "  [0.7882353 ]\n",
            "  [0.78039217]\n",
            "  [0.7764706 ]\n",
            "  [0.77254903]]\n",
            "\n",
            " [[0.69803923]\n",
            "  [0.72156864]\n",
            "  [0.7372549 ]\n",
            "  [0.74509805]\n",
            "  [0.7607843 ]\n",
            "  [0.76862746]\n",
            "  [0.79607844]\n",
            "  [0.9019608 ]\n",
            "  [0.827451  ]\n",
            "  [0.72156864]\n",
            "  [0.6745098 ]\n",
            "  [0.6509804 ]\n",
            "  [0.9019608 ]\n",
            "  [0.84705883]\n",
            "  [0.7176471 ]\n",
            "  [0.5529412 ]\n",
            "  [0.47058824]\n",
            "  [0.34117648]\n",
            "  [0.54509807]\n",
            "  [0.8509804 ]\n",
            "  [0.79607844]\n",
            "  [0.8039216 ]\n",
            "  [0.8       ]\n",
            "  [0.79607844]\n",
            "  [0.7882353 ]\n",
            "  [0.7882353 ]\n",
            "  [0.78039217]\n",
            "  [0.7764706 ]]\n",
            "\n",
            " [[0.7019608 ]\n",
            "  [0.72156864]\n",
            "  [0.74509805]\n",
            "  [0.7529412 ]\n",
            "  [0.7607843 ]\n",
            "  [0.77254903]\n",
            "  [0.78431374]\n",
            "  [0.8862745 ]\n",
            "  [0.827451  ]\n",
            "  [0.74509805]\n",
            "  [0.70980394]\n",
            "  [0.6901961 ]\n",
            "  [0.8862745 ]\n",
            "  [0.79607844]\n",
            "  [0.6666667 ]\n",
            "  [0.5294118 ]\n",
            "  [0.45490196]\n",
            "  [0.32941177]\n",
            "  [0.57254905]\n",
            "  [0.85490197]\n",
            "  [0.8039216 ]\n",
            "  [0.80784315]\n",
            "  [0.8039216 ]\n",
            "  [0.8039216 ]\n",
            "  [0.79607844]\n",
            "  [0.7882353 ]\n",
            "  [0.78431374]\n",
            "  [0.78431374]]\n",
            "\n",
            " [[0.7058824 ]\n",
            "  [0.7254902 ]\n",
            "  [0.74509805]\n",
            "  [0.75686276]\n",
            "  [0.76862746]\n",
            "  [0.78431374]\n",
            "  [0.7764706 ]\n",
            "  [0.8666667 ]\n",
            "  [0.8352941 ]\n",
            "  [0.77254903]\n",
            "  [0.7607843 ]\n",
            "  [0.7019608 ]\n",
            "  [0.8392157 ]\n",
            "  [0.7294118 ]\n",
            "  [0.6117647 ]\n",
            "  [0.50980395]\n",
            "  [0.42352942]\n",
            "  [0.30980393]\n",
            "  [0.6       ]\n",
            "  [0.85490197]\n",
            "  [0.8039216 ]\n",
            "  [0.8117647 ]\n",
            "  [0.8117647 ]\n",
            "  [0.80784315]\n",
            "  [0.8       ]\n",
            "  [0.79607844]\n",
            "  [0.7921569 ]\n",
            "  [0.7882353 ]]\n",
            "\n",
            " [[0.7058824 ]\n",
            "  [0.7294118 ]\n",
            "  [0.74509805]\n",
            "  [0.7607843 ]\n",
            "  [0.7764706 ]\n",
            "  [0.7882353 ]\n",
            "  [0.7882353 ]\n",
            "  [0.83137256]\n",
            "  [0.8509804 ]\n",
            "  [0.7921569 ]\n",
            "  [0.79607844]\n",
            "  [0.69411767]\n",
            "  [0.8352941 ]\n",
            "  [0.6901961 ]\n",
            "  [0.5686275 ]\n",
            "  [0.4745098 ]\n",
            "  [0.40392157]\n",
            "  [0.3137255 ]\n",
            "  [0.6509804 ]\n",
            "  [0.85490197]\n",
            "  [0.8117647 ]\n",
            "  [0.8156863 ]\n",
            "  [0.8156863 ]\n",
            "  [0.80784315]\n",
            "  [0.80784315]\n",
            "  [0.8039216 ]\n",
            "  [0.8039216 ]\n",
            "  [0.7921569 ]]\n",
            "\n",
            " [[0.70980394]\n",
            "  [0.73333335]\n",
            "  [0.7529412 ]\n",
            "  [0.76862746]\n",
            "  [0.7764706 ]\n",
            "  [0.7921569 ]\n",
            "  [0.8039216 ]\n",
            "  [0.8117647 ]\n",
            "  [0.8392157 ]\n",
            "  [0.8       ]\n",
            "  [0.78431374]\n",
            "  [0.6627451 ]\n",
            "  [0.78039217]\n",
            "  [0.6745098 ]\n",
            "  [0.54509807]\n",
            "  [0.4627451 ]\n",
            "  [0.39607844]\n",
            "  [0.34117648]\n",
            "  [0.73333335]\n",
            "  [0.84705883]\n",
            "  [0.8235294 ]\n",
            "  [0.8235294 ]\n",
            "  [0.8156863 ]\n",
            "  [0.8117647 ]\n",
            "  [0.8156863 ]\n",
            "  [0.8117647 ]\n",
            "  [0.80784315]\n",
            "  [0.8       ]]\n",
            "\n",
            " [[0.70980394]\n",
            "  [0.73333335]\n",
            "  [0.7529412 ]\n",
            "  [0.76862746]\n",
            "  [0.78039217]\n",
            "  [0.7921569 ]\n",
            "  [0.8039216 ]\n",
            "  [0.80784315]\n",
            "  [0.8509804 ]\n",
            "  [0.75686276]\n",
            "  [0.6901961 ]\n",
            "  [0.6       ]\n",
            "  [0.7254902 ]\n",
            "  [0.61960787]\n",
            "  [0.56078434]\n",
            "  [0.5176471 ]\n",
            "  [0.37254903]\n",
            "  [0.42745098]\n",
            "  [0.83137256]\n",
            "  [0.83137256]\n",
            "  [0.83137256]\n",
            "  [0.83137256]\n",
            "  [0.827451  ]\n",
            "  [0.81960785]\n",
            "  [0.8156863 ]\n",
            "  [0.8156863 ]\n",
            "  [0.8117647 ]\n",
            "  [0.8039216 ]]\n",
            "\n",
            " [[0.7137255 ]\n",
            "  [0.73333335]\n",
            "  [0.7529412 ]\n",
            "  [0.76862746]\n",
            "  [0.78431374]\n",
            "  [0.7921569 ]\n",
            "  [0.8039216 ]\n",
            "  [0.80784315]\n",
            "  [0.88235295]\n",
            "  [0.77254903]\n",
            "  [0.6627451 ]\n",
            "  [0.64705884]\n",
            "  [0.76862746]\n",
            "  [0.5921569 ]\n",
            "  [0.5921569 ]\n",
            "  [0.5176471 ]\n",
            "  [0.31764707]\n",
            "  [0.60784316]\n",
            "  [0.87058824]\n",
            "  [0.83137256]\n",
            "  [0.8352941 ]\n",
            "  [0.83137256]\n",
            "  [0.827451  ]\n",
            "  [0.8235294 ]\n",
            "  [0.8235294 ]\n",
            "  [0.8156863 ]\n",
            "  [0.8117647 ]\n",
            "  [0.80784315]]]\n"
          ]
        }
      ],
      "source": [
        "X_train = X_train.astype('float32') \n",
        "X_test = X_test.astype('float32')\n",
        "X_train = X_train / 255.\n",
        "X_test = X_test / 255.\n",
        "X_valid = X_valid.astype('float32')\n",
        "X_valid = X_valid / 255.\n",
        "print(X_valid[0])"
      ]
    },
    {
      "cell_type": "code",
      "execution_count": null,
      "metadata": {
        "colab": {
          "base_uri": "https://localhost:8080/"
        },
        "id": "1iIlbbgdRf2L",
        "outputId": "a7ad799e-40af-4df1-dd56-16ad86421c45"
      },
      "outputs": [
        {
          "output_type": "stream",
          "name": "stdout",
          "text": [
            "Model: \"sequential\"\n",
            "_________________________________________________________________\n",
            " Layer (type)                Output Shape              Param #   \n",
            "=================================================================\n",
            " conv2d (Conv2D)             (None, 26, 26, 32)        320       \n",
            "                                                                 \n",
            " max_pooling2d (MaxPooling2D  (None, 13, 13, 32)       0         \n",
            " )                                                               \n",
            "                                                                 \n",
            " dropout (Dropout)           (None, 13, 13, 32)        0         \n",
            "                                                                 \n",
            " conv2d_1 (Conv2D)           (None, 11, 11, 64)        18496     \n",
            "                                                                 \n",
            " max_pooling2d_1 (MaxPooling  (None, 5, 5, 64)         0         \n",
            " 2D)                                                             \n",
            "                                                                 \n",
            " dropout_1 (Dropout)         (None, 5, 5, 64)          0         \n",
            "                                                                 \n",
            " conv2d_2 (Conv2D)           (None, 3, 3, 64)          36928     \n",
            "                                                                 \n",
            " flatten (Flatten)           (None, 576)               0         \n",
            "                                                                 \n",
            " dense (Dense)               (None, 64)                36928     \n",
            "                                                                 \n",
            " dropout_2 (Dropout)         (None, 64)                0         \n",
            "                                                                 \n",
            " dense_1 (Dense)             (None, 24)                1560      \n",
            "                                                                 \n",
            "=================================================================\n",
            "Total params: 94,232\n",
            "Trainable params: 94,232\n",
            "Non-trainable params: 0\n",
            "_________________________________________________________________\n"
          ]
        }
      ],
      "source": [
        "import tensorflow as tf\n",
        "from tensorflow.keras import datasets, layers, models, losses, optimizers\n",
        "from tensorflow.keras.utils import to_categorical\n",
        "\n",
        "model = models.Sequential()\n",
        "model.add(layers.Conv2D(32, (3, 3), activation='relu', input_shape=(28, 28, 1)))\n",
        "model.add(layers.MaxPooling2D((2, 2)))\n",
        "model.add(layers.Dropout(0.25))\n",
        "model.add(layers.Conv2D(64, (3, 3), activation='relu'))\n",
        "model.add(layers.MaxPooling2D((2, 2)))\n",
        "model.add(layers.Dropout(0.25))\n",
        "model.add(layers.Conv2D(64, (3, 3), activation='relu'))\n",
        "model.add(layers.Flatten())\n",
        "model.add(layers.Dense(64, activation='relu'))\n",
        "model.add(layers.Dropout(0.30))\n",
        "model.add(layers.Dense(24, activation = 'softmax'))\n",
        "model.summary()"
      ]
    },
    {
      "cell_type": "code",
      "execution_count": null,
      "metadata": {
        "id": "Lf60Z8LTSN45"
      },
      "outputs": [],
      "source": [
        "batch_size = 256\n",
        "epochs = 30\n",
        "num_classes = 24"
      ]
    },
    {
      "cell_type": "code",
      "execution_count": null,
      "metadata": {
        "id": "-clKch6_Sc6a"
      },
      "outputs": [],
      "source": [
        "model.compile(loss=losses.categorical_crossentropy, optimizer=optimizers.Adam(),metrics=['accuracy'])"
      ]
    },
    {
      "cell_type": "code",
      "execution_count": null,
      "metadata": {
        "colab": {
          "base_uri": "https://localhost:8080/"
        },
        "id": "wdvFJdN2TQVJ",
        "outputId": "979fb20a-c6f4-4342-86e8-d4b1a97c192b"
      },
      "outputs": [
        {
          "output_type": "stream",
          "name": "stdout",
          "text": [
            "Epoch 1/30\n",
            "65/65 [==============================] - 17s 242ms/step - loss: 3.0565 - accuracy: 0.0941 - val_loss: 2.6178 - val_accuracy: 0.2710\n",
            "Epoch 2/30\n",
            "65/65 [==============================] - 16s 239ms/step - loss: 2.1869 - accuracy: 0.3038 - val_loss: 1.4661 - val_accuracy: 0.5948\n",
            "Epoch 3/30\n",
            "65/65 [==============================] - 15s 238ms/step - loss: 1.4563 - accuracy: 0.5153 - val_loss: 0.9276 - val_accuracy: 0.7314\n",
            "Epoch 4/30\n",
            "65/65 [==============================] - 15s 238ms/step - loss: 1.0706 - accuracy: 0.6361 - val_loss: 0.5644 - val_accuracy: 0.8481\n",
            "Epoch 5/30\n",
            "65/65 [==============================] - 16s 240ms/step - loss: 0.8155 - accuracy: 0.7169 - val_loss: 0.4107 - val_accuracy: 0.9040\n",
            "Epoch 6/30\n",
            "65/65 [==============================] - 15s 238ms/step - loss: 0.6602 - accuracy: 0.7707 - val_loss: 0.2985 - val_accuracy: 0.9313\n",
            "Epoch 7/30\n",
            "65/65 [==============================] - 16s 239ms/step - loss: 0.5382 - accuracy: 0.8129 - val_loss: 0.2172 - val_accuracy: 0.9536\n",
            "Epoch 8/30\n",
            "65/65 [==============================] - 15s 237ms/step - loss: 0.4483 - accuracy: 0.8449 - val_loss: 0.1648 - val_accuracy: 0.9687\n",
            "Epoch 9/30\n",
            "65/65 [==============================] - 15s 239ms/step - loss: 0.3840 - accuracy: 0.8643 - val_loss: 0.1241 - val_accuracy: 0.9789\n",
            "Epoch 10/30\n",
            "65/65 [==============================] - 15s 238ms/step - loss: 0.3331 - accuracy: 0.8841 - val_loss: 0.0929 - val_accuracy: 0.9843\n",
            "Epoch 11/30\n",
            "65/65 [==============================] - 15s 237ms/step - loss: 0.2895 - accuracy: 0.8986 - val_loss: 0.0728 - val_accuracy: 0.9924\n",
            "Epoch 12/30\n",
            "65/65 [==============================] - 15s 239ms/step - loss: 0.2511 - accuracy: 0.9126 - val_loss: 0.0576 - val_accuracy: 0.9920\n",
            "Epoch 13/30\n",
            "65/65 [==============================] - 16s 243ms/step - loss: 0.2267 - accuracy: 0.9225 - val_loss: 0.0479 - val_accuracy: 0.9951\n",
            "Epoch 14/30\n",
            "65/65 [==============================] - 16s 239ms/step - loss: 0.2017 - accuracy: 0.9321 - val_loss: 0.0447 - val_accuracy: 0.9951\n",
            "Epoch 15/30\n",
            "65/65 [==============================] - 15s 238ms/step - loss: 0.1779 - accuracy: 0.9398 - val_loss: 0.0276 - val_accuracy: 0.9975\n",
            "Epoch 16/30\n",
            "65/65 [==============================] - 15s 237ms/step - loss: 0.1564 - accuracy: 0.9466 - val_loss: 0.0271 - val_accuracy: 0.9964\n",
            "Epoch 17/30\n",
            "65/65 [==============================] - 15s 237ms/step - loss: 0.1433 - accuracy: 0.9518 - val_loss: 0.0156 - val_accuracy: 0.9995\n",
            "Epoch 18/30\n",
            "65/65 [==============================] - 16s 240ms/step - loss: 0.1303 - accuracy: 0.9562 - val_loss: 0.0162 - val_accuracy: 0.9993\n",
            "Epoch 19/30\n",
            "65/65 [==============================] - 15s 238ms/step - loss: 0.1189 - accuracy: 0.9599 - val_loss: 0.0121 - val_accuracy: 0.9995\n",
            "Epoch 20/30\n",
            "65/65 [==============================] - 15s 238ms/step - loss: 0.1127 - accuracy: 0.9610 - val_loss: 0.0091 - val_accuracy: 0.9998\n",
            "Epoch 21/30\n",
            "65/65 [==============================] - 15s 238ms/step - loss: 0.1005 - accuracy: 0.9655 - val_loss: 0.0087 - val_accuracy: 1.0000\n",
            "Epoch 22/30\n",
            "65/65 [==============================] - 15s 237ms/step - loss: 0.0928 - accuracy: 0.9689 - val_loss: 0.0077 - val_accuracy: 1.0000\n",
            "Epoch 23/30\n",
            "65/65 [==============================] - 15s 237ms/step - loss: 0.0885 - accuracy: 0.9703 - val_loss: 0.0059 - val_accuracy: 0.9998\n",
            "Epoch 24/30\n",
            "65/65 [==============================] - 15s 237ms/step - loss: 0.0854 - accuracy: 0.9719 - val_loss: 0.0051 - val_accuracy: 1.0000\n",
            "Epoch 25/30\n",
            "65/65 [==============================] - 16s 240ms/step - loss: 0.0787 - accuracy: 0.9744 - val_loss: 0.0050 - val_accuracy: 1.0000\n",
            "Epoch 26/30\n",
            "65/65 [==============================] - 15s 238ms/step - loss: 0.0748 - accuracy: 0.9747 - val_loss: 0.0041 - val_accuracy: 1.0000\n",
            "Epoch 27/30\n",
            "65/65 [==============================] - 15s 237ms/step - loss: 0.0712 - accuracy: 0.9763 - val_loss: 0.0042 - val_accuracy: 0.9998\n",
            "Epoch 28/30\n",
            "65/65 [==============================] - 15s 237ms/step - loss: 0.0671 - accuracy: 0.9783 - val_loss: 0.0027 - val_accuracy: 1.0000\n",
            "Epoch 29/30\n",
            "65/65 [==============================] - 16s 240ms/step - loss: 0.0650 - accuracy: 0.9798 - val_loss: 0.0031 - val_accuracy: 0.9998\n",
            "Epoch 30/30\n",
            "65/65 [==============================] - 15s 237ms/step - loss: 0.0631 - accuracy: 0.9799 - val_loss: 0.0027 - val_accuracy: 1.0000\n"
          ]
        }
      ],
      "source": [
        "training_history = model.fit(X_train, Y_train,\n",
        "                             batch_size=batch_size,\n",
        "                             epochs=epochs,\n",
        "                             verbose=1,\n",
        "                             validation_data=(X_valid, Y_valid))"
      ]
    },
    {
      "cell_type": "code",
      "execution_count": null,
      "metadata": {
        "colab": {
          "base_uri": "https://localhost:8080/"
        },
        "id": "e7Uihp4rTeW5",
        "outputId": "dc3fdfa8-f397-4e62-ac4c-5ca32fe4f4e5"
      },
      "outputs": [
        {
          "output_type": "stream",
          "name": "stdout",
          "text": [
            "Test loss: 0.0026493999175727367\n",
            "Test accuracy: 0.9998179078102112\n"
          ]
        }
      ],
      "source": [
        "test_eval = model.evaluate(X_test, Y_test, verbose=0)\n",
        "print('Test loss:', test_eval[0])\n",
        "print('Test accuracy:', test_eval[1])"
      ]
    },
    {
      "cell_type": "code",
      "source": [
        "accuracy = training_history.history['accuracy']\n",
        "val_accuracy = training_history.history['val_accuracy']\n",
        "loss = training_history.history['loss']\n",
        "val_loss = training_history.history['val_loss']\n",
        "epoch = range(len(accuracy))\n",
        "plt.plot(epoch, accuracy, label='Training accuracy')\n",
        "plt.plot(epoch, val_accuracy, label='Validation accuracy')\n",
        "plt.title('Training and validation accuracy')\n",
        "plt.legend()\n",
        "plt.figure()\n",
        "plt.plot(epoch, loss, label='Training loss')\n",
        "plt.plot(epoch, val_loss, label='Validation loss')\n",
        "plt.title('Training and validation loss')\n",
        "plt.legend()\n",
        "plt.show()"
      ],
      "metadata": {
        "colab": {
          "base_uri": "https://localhost:8080/",
          "height": 545
        },
        "id": "dpwW7PIz99wI",
        "outputId": "6fa5be6b-ca20-44c0-9cf9-07499dba3693"
      },
      "execution_count": null,
      "outputs": [
        {
          "output_type": "display_data",
          "data": {
            "text/plain": [
              "<Figure size 432x288 with 1 Axes>"
            ],
            "image/png": "[encoded data removed]"
          },
          "metadata": {
            "needs_background": "light"
          }
        },
        {
          "output_type": "display_data",
          "data": {
            "text/plain": [
              "<Figure size 432x288 with 1 Axes>"
            ],
            "image/png": "[encoded data removed]"
          },
          "metadata": {
            "needs_background": "light"
          }
        }
      ]
    },
    {
      "cell_type": "code",
      "execution_count": null,
      "metadata": {
        "id": "Uj2v7Ac-LHbX"
      },
      "outputs": [],
      "source": [
        "predicted_classes = model.predict(X_test)"
      ]
    },
    {
      "cell_type": "code",
      "execution_count": null,
      "metadata": {
        "colab": {
          "base_uri": "https://localhost:8080/"
        },
        "id": "PV83aA9YLID-",
        "outputId": "b102eb7a-3a5c-43c4-f83e-00d99ef6b9cb"
      },
      "outputs": [
        {
          "output_type": "stream",
          "name": "stdout",
          "text": [
            "[5.7689071e-24 1.1363326e-18 1.3527664e-13 5.0305284e-21 1.2329136e-13\n",
            " 1.2759480e-17 3.6516026e-11 5.7241052e-11 1.3734004e-18 6.2565071e-11\n",
            " 7.2471523e-10 3.2369268e-17 2.4574855e-09 1.5017886e-14 2.5291769e-09\n",
            " 8.3612469e-15 1.3945470e-14 3.2189834e-11 1.8411297e-13 2.8417322e-24\n",
            " 3.3399631e-14 2.6180654e-17 2.6913123e-14 1.0000000e+00]\n",
            "23\n"
          ]
        }
      ],
      "source": [
        "print(predicted_classes[0])\n",
        "print(np.argmax(np.round(predicted_classes[0])))"
      ]
    },
    {
      "cell_type": "code",
      "execution_count": null,
      "metadata": {
        "colab": {
          "base_uri": "https://localhost:8080/"
        },
        "id": "iowQoqXULLC3",
        "outputId": "a255dd4f-6f71-415f-bfdc-f043a7204c10"
      },
      "outputs": [
        {
          "output_type": "execute_result",
          "data": {
            "text/plain": [
              "(5491,)"
            ]
          },
          "metadata": {},
          "execution_count": 19
        }
      ],
      "source": [
        "predicted_classes = np.argmax(np.round(predicted_classes),axis=1)\n",
        "predicted_classes.shape"
      ]
    },
    {
      "cell_type": "code",
      "execution_count": null,
      "metadata": {
        "colab": {
          "base_uri": "https://localhost:8080/"
        },
        "id": "-eSRlh3gqOmg",
        "outputId": "407c6e43-2a88-4c64-ba45-b27a75252e05"
      },
      "outputs": [
        {
          "output_type": "execute_result",
          "data": {
            "text/plain": [
              "array([23, 21, 16, ...,  4,  5, 20])"
            ]
          },
          "metadata": {},
          "execution_count": 20
        }
      ],
      "source": [
        "predicted_classes"
      ]
    },
    {
      "cell_type": "code",
      "execution_count": null,
      "metadata": {
        "id": "mu9AMh1Rqjbs"
      },
      "outputs": [],
      "source": [
        "Y_test2 = np.argmax(np.round(Y_test),axis=1)"
      ]
    },
    {
      "cell_type": "code",
      "execution_count": null,
      "metadata": {
        "colab": {
          "base_uri": "https://localhost:8080/",
          "height": 314
        },
        "id": "6_0aTQb6LSpO",
        "outputId": "2381a934-49ed-4f16-ce9c-e6107b2ae95c"
      },
      "outputs": [
        {
          "output_type": "stream",
          "name": "stdout",
          "text": [
            "correct labels - 5490\n"
          ]
        },
        {
          "output_type": "display_data",
          "data": {
            "text/plain": [
              "<Figure size 432x288 with 9 Axes>"
            ],
            "image/png": "[encoded data removed]"
          },
          "metadata": {
            "needs_background": "light"
          }
        }
      ],
      "source": [
        "correct = np.where(predicted_classes==Y_test2)[0]\n",
        "print(f'correct labels - {len(correct)}')\n",
        "for i, correct in enumerate(correct[:9]):\n",
        "    plt.subplot(3,3,i+1)\n",
        "    plt.imshow(X_test[correct].reshape(28,28), cmap='gray', interpolation='none')\n",
        "    plt.title(\"Predicted {}, Class {}\".format(predicted_classes[correct], Y_test2[correct]))\n",
        "    plt.tight_layout()"
      ]
    },
    {
      "cell_type": "code",
      "execution_count": null,
      "metadata": {
        "colab": {
          "base_uri": "https://localhost:8080/",
          "height": 146
        },
        "id": "baPSyrliLU3v",
        "outputId": "09bb693b-ab47-40cd-e20c-ff6421696dd0"
      },
      "outputs": [
        {
          "output_type": "stream",
          "name": "stdout",
          "text": [
            "Misclassified labels - 1\n"
          ]
        },
        {
          "output_type": "display_data",
          "data": {
            "text/plain": [
              "<Figure size 432x288 with 1 Axes>"
            ],
            "image/png": "[encoded data removed]"
          },
          "metadata": {
            "needs_background": "light"
          }
        }
      ],
      "source": [
        "correct = np.where(predicted_classes==Y_test2)[0]\n",
        "print(f'Misclassified labels - {(Y_test2.shape[0]) - len(correct)}')\n",
        "cnt = 0\n",
        "for i in range (0,len(Y_test2)):\n",
        "  if(predicted_classes[i]!=Y_test2[i]):\n",
        "    \n",
        "    plt.subplot(3,3,cnt+1)\n",
        "    plt.imshow(X_test[i].reshape(28,28), cmap='gray', interpolation='none')\n",
        "    plt.title(\"Predicted {}, Class {}\".format(predicted_classes[i], Y_test2[i]))\n",
        "    plt.tight_layout()\n",
        "    cnt+=1\n",
        "    if(cnt==9):\n",
        "      break"
      ]
    },
    {
      "cell_type": "code",
      "execution_count": null,
      "metadata": {
        "colab": {
          "base_uri": "https://localhost:8080/"
        },
        "id": "L28rlFcPW-lJ",
        "outputId": "a3cc2866-61ca-4a13-a246-d6c9a2aa1045"
      },
      "outputs": [
        {
          "output_type": "stream",
          "name": "stdout",
          "text": [
            "Collecting gradio\n",
            "  Downloading gradio-3.0.2-py3-none-any.whl (5.2 MB)\n",
            "\u001b[K     |████████████████████████████████| 5.2 MB 4.5 MB/s \n",
            "\u001b[?25hCollecting aiohttp\n",
            "  Downloading aiohttp-3.8.1-cp37-cp37m-manylinux_2_5_x86_64.manylinux1_x86_64.manylinux_2_12_x86_64.manylinux2010_x86_64.whl (1.1 MB)\n",
            "\u001b[K     |████████████████████████████████| 1.1 MB 46.5 MB/s \n",
            "\u001b[?25hRequirement already satisfied: matplotlib in /usr/local/lib/python3.7/dist-packages (from gradio) (3.2.2)\n",
            "Requirement already satisfied: requests in /usr/local/lib/python3.7/dist-packages (from gradio) (2.23.0)\n",
            "Collecting analytics-python\n",
            "  Downloading analytics_python-1.4.0-py2.py3-none-any.whl (15 kB)\n",
            "Collecting ffmpy\n",
            "  Downloading ffmpy-0.3.0.tar.gz (4.8 kB)\n",
            "Collecting pycryptodome\n",
            "  Downloading pycryptodome-3.14.1-cp35-abi3-manylinux2010_x86_64.whl (2.0 MB)\n",
            "\u001b[K     |████████████████████████████████| 2.0 MB 32.9 MB/s \n",
            "\u001b[?25hCollecting fastapi\n",
            "  Downloading fastapi-0.78.0-py3-none-any.whl (54 kB)\n",
            "\u001b[K     |████████████████████████████████| 54 kB 2.1 MB/s \n",
            "\u001b[?25hRequirement already satisfied: numpy in /usr/local/lib/python3.7/dist-packages (from gradio) (1.21.6)\n",
            "Requirement already satisfied: pillow in /usr/local/lib/python3.7/dist-packages (from gradio) (7.1.2)\n",
            "Requirement already satisfied: Jinja2 in /usr/local/lib/python3.7/dist-packages (from gradio) (2.11.3)\n",
            "Collecting markdown-it-py[linkify,plugins]\n",
            "  Downloading markdown_it_py-2.1.0-py3-none-any.whl (84 kB)\n",
            "\u001b[K     |████████████████████████████████| 84 kB 3.0 MB/s \n",
            "\u001b[?25hCollecting paramiko\n",
            "  Downloading paramiko-2.11.0-py2.py3-none-any.whl (212 kB)\n",
            "\u001b[K     |████████████████████████████████| 212 kB 47.2 MB/s \n",
            "\u001b[?25hCollecting pydub\n",
            "  Downloading pydub-0.25.1-py2.py3-none-any.whl (32 kB)\n",
            "Collecting orjson\n",
            "  Downloading orjson-3.6.8-cp37-cp37m-manylinux_2_24_x86_64.whl (253 kB)\n",
            "\u001b[K     |████████████████████████████████| 253 kB 47.5 MB/s \n",
            "\u001b[?25hRequirement already satisfied: pandas in /usr/local/lib/python3.7/dist-packages (from gradio) (1.3.5)\n",
            "Collecting python-multipart\n",
            "  Downloading python-multipart-0.0.5.tar.gz (32 kB)\n",
            "Collecting uvicorn\n",
            "  Downloading uvicorn-0.17.6-py3-none-any.whl (53 kB)\n",
            "\u001b[K     |████████████████████████████████| 53 kB 1.8 MB/s \n",
            "\u001b[?25hRequirement already satisfied: typing-extensions>=3.7.4 in /usr/local/lib/python3.7/dist-packages (from aiohttp->gradio) (4.2.0)\n",
            "Requirement already satisfied: charset-normalizer<3.0,>=2.0 in /usr/local/lib/python3.7/dist-packages (from aiohttp->gradio) (2.0.12)\n",
            "Requirement already satisfied: attrs>=17.3.0 in /usr/local/lib/python3.7/dist-packages (from aiohttp->gradio) (21.4.0)\n",
            "Collecting frozenlist>=1.1.1\n",
            "  Downloading frozenlist-1.3.0-cp37-cp37m-manylinux_2_5_x86_64.manylinux1_x86_64.manylinux_2_17_x86_64.manylinux2014_x86_64.whl (144 kB)\n",
            "\u001b[K     |████████████████████████████████| 144 kB 36.1 MB/s \n",
            "\u001b[?25hCollecting yarl<2.0,>=1.0\n",
            "  Downloading yarl-1.7.2-cp37-cp37m-manylinux_2_5_x86_64.manylinux1_x86_64.manylinux_2_12_x86_64.manylinux2010_x86_64.whl (271 kB)\n",
            "\u001b[K     |████████████████████████████████| 271 kB 58.5 MB/s \n",
            "\u001b[?25hCollecting async-timeout<5.0,>=4.0.0a3\n",
            "  Downloading async_timeout-4.0.2-py3-none-any.whl (5.8 kB)\n",
            "Collecting multidict<7.0,>=4.5\n",
            "  Downloading multidict-6.0.2-cp37-cp37m-manylinux_2_17_x86_64.manylinux2014_x86_64.whl (94 kB)\n",
            "\u001b[K     |████████████████████████████████| 94 kB 3.0 MB/s \n",
            "\u001b[?25hCollecting aiosignal>=1.1.2\n",
            "  Downloading aiosignal-1.2.0-py3-none-any.whl (8.2 kB)\n",
            "Collecting asynctest==0.13.0\n",
            "  Downloading asynctest-0.13.0-py3-none-any.whl (26 kB)\n",
            "Requirement already satisfied: idna>=2.0 in /usr/local/lib/python3.7/dist-packages (from yarl<2.0,>=1.0->aiohttp->gradio) (2.10)\n",
            "Requirement already satisfied: python-dateutil>2.1 in /usr/local/lib/python3.7/dist-packages (from analytics-python->gradio) (2.8.2)\n",
            "Collecting monotonic>=1.5\n",
            "  Downloading monotonic-1.6-py2.py3-none-any.whl (8.2 kB)\n",
            "Requirement already satisfied: six>=1.5 in /usr/local/lib/python3.7/dist-packages (from analytics-python->gradio) (1.15.0)\n",
            "Collecting backoff==1.10.0\n",
            "  Downloading backoff-1.10.0-py2.py3-none-any.whl (31 kB)\n",
            "Requirement already satisfied: chardet<4,>=3.0.2 in /usr/local/lib/python3.7/dist-packages (from requests->gradio) (3.0.4)\n",
            "Requirement already satisfied: urllib3!=1.25.0,!=1.25.1,<1.26,>=1.21.1 in /usr/local/lib/python3.7/dist-packages (from requests->gradio) (1.24.3)\n",
            "Requirement already satisfied: certifi>=2017.4.17 in /usr/local/lib/python3.7/dist-packages (from requests->gradio) (2021.10.8)\n",
            "Collecting starlette==0.19.1\n",
            "  Downloading starlette-0.19.1-py3-none-any.whl (63 kB)\n",
            "\u001b[K     |████████████████████████████████| 63 kB 1.7 MB/s \n",
            "\u001b[?25hCollecting pydantic!=1.7,!=1.7.1,!=1.7.2,!=1.7.3,!=1.8,!=1.8.1,<2.0.0,>=1.6.2\n",
            "  Downloading pydantic-1.9.0-cp37-cp37m-manylinux_2_17_x86_64.manylinux2014_x86_64.whl (10.9 MB)\n",
            "\u001b[K     |████████████████████████████████| 10.9 MB 30.1 MB/s \n",
            "\u001b[?25hCollecting anyio<5,>=3.4.0\n",
            "  Downloading anyio-3.6.1-py3-none-any.whl (80 kB)\n",
            "\u001b[K     |████████████████████████████████| 80 kB 8.0 MB/s \n",
            "\u001b[?25hCollecting sniffio>=1.1\n",
            "  Downloading sniffio-1.2.0-py3-none-any.whl (10 kB)\n",
            "Requirement already satisfied: MarkupSafe>=0.23 in /usr/local/lib/python3.7/dist-packages (from Jinja2->gradio) (2.0.1)\n",
            "Collecting mdurl~=0.1\n",
            "  Downloading mdurl-0.1.1-py3-none-any.whl (10 kB)\n",
            "Collecting linkify-it-py~=1.0\n",
            "  Downloading linkify_it_py-1.0.3-py3-none-any.whl (19 kB)\n",
            "Collecting mdit-py-plugins\n",
            "  Downloading mdit_py_plugins-0.3.0-py3-none-any.whl (43 kB)\n",
            "\u001b[K     |████████████████████████████████| 43 kB 1.9 MB/s \n",
            "\u001b[?25hCollecting uc-micro-py\n",
            "  Downloading uc_micro_py-1.0.1-py3-none-any.whl (6.2 kB)\n",
            "Requirement already satisfied: cycler>=0.10 in /usr/local/lib/python3.7/dist-packages (from matplotlib->gradio) (0.11.0)\n",
            "Requirement already satisfied: kiwisolver>=1.0.1 in /usr/local/lib/python3.7/dist-packages (from matplotlib->gradio) (1.4.2)\n",
            "Requirement already satisfied: pyparsing!=2.0.4,!=2.1.2,!=2.1.6,>=2.0.1 in /usr/local/lib/python3.7/dist-packages (from matplotlib->gradio) (3.0.9)\n",
            "Requirement already satisfied: pytz>=2017.3 in /usr/local/lib/python3.7/dist-packages (from pandas->gradio) (2022.1)\n",
            "Collecting bcrypt>=3.1.3\n",
            "  Downloading bcrypt-3.2.2-cp36-abi3-manylinux_2_17_x86_64.manylinux2014_x86_64.manylinux_2_24_x86_64.whl (62 kB)\n",
            "\u001b[K     |████████████████████████████████| 62 kB 755 kB/s \n",
            "\u001b[?25hCollecting cryptography>=2.5\n",
            "  Downloading cryptography-37.0.2-cp36-abi3-manylinux_2_24_x86_64.whl (4.0 MB)\n",
            "\u001b[K     |████████████████████████████████| 4.0 MB 37.1 MB/s \n",
            "\u001b[?25hCollecting pynacl>=1.0.1\n",
            "  Downloading PyNaCl-1.5.0-cp36-abi3-manylinux_2_17_x86_64.manylinux2014_x86_64.manylinux_2_24_x86_64.whl (856 kB)\n",
            "\u001b[K     |████████████████████████████████| 856 kB 53.0 MB/s \n",
            "\u001b[?25hRequirement already satisfied: cffi>=1.1 in /usr/local/lib/python3.7/dist-packages (from bcrypt>=3.1.3->paramiko->gradio) (1.15.0)\n",
            "Requirement already satisfied: pycparser in /usr/local/lib/python3.7/dist-packages (from cffi>=1.1->bcrypt>=3.1.3->paramiko->gradio) (2.21)\n",
            "Collecting h11>=0.8\n",
            "  Downloading h11-0.13.0-py3-none-any.whl (58 kB)\n",
            "\u001b[K     |████████████████████████████████| 58 kB 5.3 MB/s \n",
            "\u001b[?25hRequirement already satisfied: click>=7.0 in /usr/local/lib/python3.7/dist-packages (from uvicorn->gradio) (7.1.2)\n",
            "Collecting asgiref>=3.4.0\n",
            "  Downloading asgiref-3.5.2-py3-none-any.whl (22 kB)\n",
            "Building wheels for collected packages: ffmpy, python-multipart\n",
            "  Building wheel for ffmpy (setup.py) ... \u001b[?25l\u001b[?25hdone\n",
            "  Created wheel for ffmpy: filename=ffmpy-0.3.0-py3-none-any.whl size=4712 sha256=bf6f3a8f46a6ff84b70e4954a96eceda408112517958fbb17698fb90ea181bba\n",
            "  Stored in directory: /root/.cache/pip/wheels/13/e4/6c/e8059816e86796a597c6e6b0d4c880630f51a1fcfa0befd5e6\n",
            "  Building wheel for python-multipart (setup.py) ... \u001b[?25l\u001b[?25hdone\n",
            "  Created wheel for python-multipart: filename=python_multipart-0.0.5-py3-none-any.whl size=31678 sha256=15fec87d9163012f0200735b44c47afaaee6b8b0176ecb8bef2f106bf82aaea7\n",
            "  Stored in directory: /root/.cache/pip/wheels/2c/41/7c/bfd1c180534ffdcc0972f78c5758f89881602175d48a8bcd2c\n",
            "Successfully built ffmpy python-multipart\n",
            "Installing collected packages: sniffio, mdurl, uc-micro-py, multidict, markdown-it-py, frozenlist, anyio, yarl, starlette, pynacl, pydantic, monotonic, mdit-py-plugins, linkify-it-py, h11, cryptography, bcrypt, backoff, asynctest, async-timeout, asgiref, aiosignal, uvicorn, python-multipart, pydub, pycryptodome, paramiko, orjson, ffmpy, fastapi, analytics-python, aiohttp, gradio\n",
            "Successfully installed aiohttp-3.8.1 aiosignal-1.2.0 analytics-python-1.4.0 anyio-3.6.1 asgiref-3.5.2 async-timeout-4.0.2 asynctest-0.13.0 backoff-1.10.0 bcrypt-3.2.2 cryptography-37.0.2 fastapi-0.78.0 ffmpy-0.3.0 frozenlist-1.3.0 gradio-3.0.2 h11-0.13.0 linkify-it-py-1.0.3 markdown-it-py-2.1.0 mdit-py-plugins-0.3.0 mdurl-0.1.1 monotonic-1.6 multidict-6.0.2 orjson-3.6.8 paramiko-2.11.0 pycryptodome-3.14.1 pydantic-1.9.0 pydub-0.25.1 pynacl-1.5.0 python-multipart-0.0.5 sniffio-1.2.0 starlette-0.19.1 uc-micro-py-1.0.1 uvicorn-0.17.6 yarl-1.7.2\n"
          ]
        }
      ],
      "source": [
        "!pip install gradio"
      ]
    },
    {
      "cell_type": "code",
      "execution_count": null,
      "metadata": {
        "id": "UHFNFOQPXB7K"
      },
      "outputs": [],
      "source": [
        "import gradio as gr"
      ]
    },
    {
      "cell_type": "code",
      "execution_count": null,
      "metadata": {
        "id": "9-Oq2BWbXGSn"
      },
      "outputs": [],
      "source": [
        "labels = (\"A\", \"B\", \"C\", \"D\", \"E\",\n",
        "          \"F\", \"G\", \"H\", \"I\", \"J\",\n",
        "          \"L\", \"M\", \"N\", \"O\", \"P\",\n",
        "          \"Q\", \"R\", \"S\", \"T\", \"U\",\n",
        "          \"V\", \"W\", \"X\", \"Y\")"
      ]
    },
    {
      "cell_type": "code",
      "execution_count": null,
      "metadata": {
        "id": "7MSNDy9wXHKe"
      },
      "outputs": [],
      "source": [
        "labels_2 = (\"0\", \"1\", \"2\", \"3\", \"4\",\n",
        "          \"5\", \"6\", \"7\", \"8\", \"10\",\n",
        "          \"11\", \"12\", \"13\", \"14\", \"15\",\n",
        "          \"16\", \"17\", \"18\", \"19\", \"20\",\n",
        "          \"21\", \"22\", \"23\", \"24\")"
      ]
    },
    {
      "cell_type": "code",
      "source": [
        "from PIL import Image"
      ],
      "metadata": {
        "id": "6rGbHYTaBFEX"
      },
      "execution_count": null,
      "outputs": []
    },
    {
      "cell_type": "code",
      "execution_count": null,
      "metadata": {
        "id": "rqmhz40v950N",
        "colab": {
          "base_uri": "https://localhost:8080/"
        },
        "outputId": "19053d04-5ee6-4dc3-bb8b-a67fd1cfe940"
      },
      "outputs": [
        {
          "output_type": "stream",
          "name": "stdout",
          "text": [
            "/usr/local/lib/python3.7/dist-packages/gdown/cli.py:131: FutureWarning: Option `--id` was deprecated in version 4.3.1 and will be removed in 5.0. You don't need to pass it anymore to use a file ID.\n",
            "  category=FutureWarning,\n",
            "Downloading...\n",
            "From: https://drive.google.com/uc?id=1QwuBDmPWqLKrBn8cikNFYHmta-11vxIi\n",
            "To: /content/MLimageA.jpg\n",
            "100% 146k/146k [00:00<00:00, 73.5MB/s]\n",
            "/usr/local/lib/python3.7/dist-packages/gdown/cli.py:131: FutureWarning: Option `--id` was deprecated in version 4.3.1 and will be removed in 5.0. You don't need to pass it anymore to use a file ID.\n",
            "  category=FutureWarning,\n",
            "Downloading...\n",
            "From: https://drive.google.com/uc?id=1tU9gHoYJZqRCQA6uoQHosy4iOyyyXxUx\n",
            "To: /content/MLimageV.jpg\n",
            "100% 2.99k/2.99k [00:00<00:00, 4.84MB/s]\n",
            "/usr/local/lib/python3.7/dist-packages/gdown/cli.py:131: FutureWarning: Option `--id` was deprecated in version 4.3.1 and will be removed in 5.0. You don't need to pass it anymore to use a file ID.\n",
            "  category=FutureWarning,\n",
            "Downloading...\n",
            "From: https://drive.google.com/uc?id=1XX1wg1vjnCeWuxJkVBoKELaqGQJxJnH-\n",
            "To: /content/MLimageY.jpg\n",
            "100% 3.39k/3.39k [00:00<00:00, 5.79MB/s]\n",
            "/usr/local/lib/python3.7/dist-packages/gdown/cli.py:131: FutureWarning: Option `--id` was deprecated in version 4.3.1 and will be removed in 5.0. You don't need to pass it anymore to use a file ID.\n",
            "  category=FutureWarning,\n",
            "Downloading...\n",
            "From: https://drive.google.com/uc?id=10YM8Qm9XsR9os7aFPK2LGAOkPu26DTrs\n",
            "To: /content/MLimageO.jpg\n",
            "100% 3.64k/3.64k [00:00<00:00, 6.08MB/s]\n"
          ]
        }
      ],
      "source": [
        "!gdown --id 1QwuBDmPWqLKrBn8cikNFYHmta-11vxIi\n",
        "!gdown --id 1tU9gHoYJZqRCQA6uoQHosy4iOyyyXxUx\n",
        "!gdown --id 1XX1wg1vjnCeWuxJkVBoKELaqGQJxJnH-\n",
        "!gdown --id 10YM8Qm9XsR9os7aFPK2LGAOkPu26DTrs"
      ]
    },
    {
      "cell_type": "code",
      "source": [
        "img = Image.open(\"MLimageA.jpg\")\n",
        "plt.imshow(img, cmap=\"gray\")\n",
        "plt.axis(\"off\")\n",
        "plt.show()\n",
        "\n",
        "img2 = Image.open(\"MLimageV.jpg\")\n",
        "plt.imshow(img2, cmap=\"gray\")\n",
        "plt.axis(\"off\")\n",
        "plt.show()\n",
        "\n",
        "img3 = Image.open(\"MLimageY.jpg\")\n",
        "plt.imshow(img3, cmap=\"gray\")\n",
        "plt.axis(\"off\")\n",
        "plt.show()\n",
        "\n",
        "img4 = Image.open(\"MLimageO.jpg\")\n",
        "plt.imshow(img4, cmap=\"gray\")\n",
        "plt.axis(\"off\")\n",
        "plt.show()"
      ],
      "metadata": {
        "colab": {
          "base_uri": "https://localhost:8080/",
          "height": 941
        },
        "id": "fcANligmEH_u",
        "outputId": "e1740fc6-a26c-49c8-b591-deb0b77c2aae"
      },
      "execution_count": null,
      "outputs": [
        {
          "output_type": "display_data",
          "data": {
            "text/plain": [
              "<Figure size 432x288 with 1 Axes>"
            ],
            "image/png": "[encoded data removed]"
          },
          "metadata": {
            "needs_background": "light"
          }
        },
        {
          "output_type": "display_data",
          "data": {
            "text/plain": [
              "<Figure size 432x288 with 1 Axes>"
            ],
            "image/png": "[encoded data removed]"
          },
          "metadata": {
            "needs_background": "light"
          }
        },
        {
          "output_type": "display_data",
          "data": {
            "text/plain": [
              "<Figure size 432x288 with 1 Axes>"
            ],
            "image/png": "[encoded data removed]"
          },
          "metadata": {
            "needs_background": "light"
          }
        },
        {
          "output_type": "display_data",
          "data": {
            "text/plain": [
              "<Figure size 432x288 with 1 Axes>"
            ],
            "image/png": "[encoded data removed]"
          },
          "metadata": {
            "needs_background": "light"
          }
        }
      ]
    },
    {
      "cell_type": "code",
      "source": [
        "img = img.convert('L')\n",
        "im_resized = img.resize((28,28), Image.ANTIALIAS)"
      ],
      "metadata": {
        "id": "ps3JtEsjK3q_"
      },
      "execution_count": null,
      "outputs": []
    },
    {
      "cell_type": "code",
      "source": [
        "dummy_img = np.array(im_resized)\n",
        "dummy_img = dummy_img.reshape(-1,28,28,1)\n",
        "predict_dummy_image = model.predict(dummy_img)\n",
        "print(np.argmax(np.round(predict_dummy_image)))"
      ],
      "metadata": {
        "colab": {
          "base_uri": "https://localhost:8080/"
        },
        "id": "RHdQYgEeI1ZD",
        "outputId": "5158ad8b-bc85-48df-c39a-5b9bb91182b3"
      },
      "execution_count": null,
      "outputs": [
        {
          "output_type": "stream",
          "name": "stdout",
          "text": [
            "13\n"
          ]
        }
      ]
    },
    {
      "cell_type": "code",
      "execution_count": null,
      "metadata": {
        "id": "qSiDK2VZXJkD"
      },
      "outputs": [],
      "source": [
        "def classify_image(inp):\n",
        "    inp = Image.fromarray(inp)\n",
        "    inp = inp.convert('L')\n",
        "    inp = inp.resize((28,28), Image.ANTIALIAS)\n",
        "    inp = np.array(inp)\n",
        "    inp = inp.reshape(-1, 28, 28, 1)\n",
        "    #inp = tf.keras.applications.mobilenet_v2.preprocess_input(inp)\n",
        "    inp = inp.astype('float32')\n",
        "    inp = inp / 255.\n",
        "    classes = new_model.predict(inp)\n",
        "    #return classes\n",
        "    #return(inp.shape)\n",
        "    return np.argmax(np.round(classes))\n",
        "   # prediction = model.predict(inp).flatten()\n",
        "    #return {labels_2[i]: float(prediction[i]) for i in range(1000)}"
      ]
    },
    {
      "cell_type": "code",
      "execution_count": null,
      "metadata": {
        "id": "c2J37qkJXLVq",
        "colab": {
          "base_uri": "https://localhost:8080/"
        },
        "outputId": "746fdd89-5ce8-4c12-9572-c0c7b4f18fd5"
      },
      "outputs": [
        {
          "output_type": "stream",
          "name": "stderr",
          "text": [
            "/usr/local/lib/python3.7/dist-packages/gradio/deprecation.py:40: UserWarning: `optional` parameter is deprecated, and it has no effect\n",
            "  warnings.warn(value)\n",
            "/usr/local/lib/python3.7/dist-packages/gradio/deprecation.py:40: UserWarning: The 'type' parameter has been deprecated. Use the Number component instead.\n",
            "  warnings.warn(value)\n"
          ]
        }
      ],
      "source": [
        "image = gr.inputs.Image(shape=(28, 28))\n",
        "label = gr.outputs.Label(num_top_classes=1)"
      ]
    },
    {
      "cell_type": "code",
      "source": [
        "!mkdir -p saved_model\n",
        "model.save('saved_model/mnist_model')"
      ],
      "metadata": {
        "colab": {
          "base_uri": "https://localhost:8080/"
        },
        "id": "JCwAUjbTZjP_",
        "outputId": "f908bdbb-ff15-4573-f6e9-9ae1351571f3"
      },
      "execution_count": null,
      "outputs": [
        {
          "output_type": "stream",
          "name": "stdout",
          "text": [
            "INFO:tensorflow:Assets written to: saved_model/mnist_model/assets\n"
          ]
        }
      ]
    },
    {
      "cell_type": "code",
      "source": [
        "new_model = tf.keras.models.load_model('saved_model/mnist_model')"
      ],
      "metadata": {
        "id": "cnP-RTRwaBfi"
      },
      "execution_count": null,
      "outputs": []
    },
    {
      "cell_type": "code",
      "execution_count": null,
      "metadata": {
        "colab": {
          "base_uri": "https://localhost:8080/",
          "height": 715
        },
        "id": "xHWR7on4XM_H",
        "outputId": "8ac55852-cb18-42df-a995-142f93014dcd"
      },
      "outputs": [
        {
          "output_type": "stream",
          "name": "stderr",
          "text": [
            "/usr/local/lib/python3.7/dist-packages/gradio/interface.py:248: UserWarning: The `capture_session` parameter in the `Interface` is deprecated and may be removed in the future.\n",
            "  \"The `capture_session` parameter in the `Interface`\"\n"
          ]
        },
        {
          "output_type": "stream",
          "name": "stdout",
          "text": [
            "Colab notebook detected. This cell will run indefinitely so that you can see errors and logs. To turn off, set debug=False in launch().\n",
            "Running on public URL: https://35246.gradio.app\n",
            "\n",
            "This share link expires in 72 hours. For free permanent hosting, check out Spaces (https://huggingface.co/spaces)\n"
          ]
        },
        {
          "output_type": "display_data",
          "data": {
            "text/plain": [
              "<IPython.lib.display.IFrame at 0x7fa124522890>"
            ],
            "text/html": [
              "\n",
              "        <iframe\n",
              "            width=\"900\"\n",
              "            height=\"500\"\n",
              "            src=\"https://35246.gradio.app\"\n",
              "            frameborder=\"0\"\n",
              "            allowfullscreen\n",
              "        ></iframe>\n",
              "        "
            ]
          },
          "metadata": {}
        },
        {
          "output_type": "stream",
          "name": "stdout",
          "text": [
            "Keyboard interruption in main thread... closing server.\n"
          ]
        },
        {
          "output_type": "execute_result",
          "data": {
            "text/plain": [
              "(<fastapi.applications.FastAPI at 0x7fa11c0add50>,\n",
              " 'http://127.0.0.1:7860/',\n",
              " 'https://35246.gradio.app')"
            ]
          },
          "metadata": {},
          "execution_count": 57
        }
      ],
      "source": [
        "iface = gr.Interface(fn=classify_image, inputs = image, outputs = \"text\", capture_session=True)\n",
        "iface.launch(debug=True)"
      ]
    }
  ],
  "metadata": {
    "colab": {
      "collapsed_sections": [],
      "name": "ASL Recognition with MNIST dataset.ipynb",
      "provenance": [],
      "include_colab_link": true
    },
    "kernelspec": {
      "display_name": "Python 3",
      "name": "python3"
    },
    "language_info": {
      "name": "python"
    }
  },
  "nbformat": 4,
  "nbformat_minor": 0
}