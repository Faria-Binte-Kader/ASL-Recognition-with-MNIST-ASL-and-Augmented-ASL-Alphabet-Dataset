{
  "nbformat": 4,
  "nbformat_minor": 0,
  "metadata": {
    "colab": {
      "name": "Augmented ASL Alphabet demo.ipynb",
      "provenance": [],
      "authorship_tag": "ABX9TyPHYZ/a8r850YroUnUZStnY",
      "include_colab_link": true
    },
    "kernelspec": {
      "name": "python3",
      "display_name": "Python 3"
    },
    "language_info": {
      "name": "python"
    }
  },
  "cells": [
    {
      "cell_type": "markdown",
      "metadata": {
        "id": "view-in-github",
        "colab_type": "text"
      },
      "source": [
        "<a href=\"https://colab.research.google.com/github/WrightlyRong/ASL-Recognition-with-Augmented-ASL-Alphabet-Dataset/blob/master/Augmented_ASL_Alphabet_demo.ipynb\" target=\"_parent\"><img src=\"https://colab.research.google.com/assets/colab-badge.svg\" alt=\"Open In Colab\"/></a>"
      ]
    },
    {
      "cell_type": "code",
      "execution_count": null,
      "metadata": {
        "id": "uukAkDetmRCS"
      },
      "outputs": [],
      "source": [
        "import numpy as np\n",
        "import tensorflow as tf\n",
        "from tensorflow.keras import datasets, layers, models, losses, optimizers\n",
        "from tensorflow.keras.utils import to_categorical"
      ]
    },
    {
      "cell_type": "code",
      "source": [
        "new_model = tf.keras.models.load_model('asl_augmented_64by64_iter25_model.h5')"
      ],
      "metadata": {
        "id": "1-ThUqIL2Ryc"
      },
      "execution_count": null,
      "outputs": []
    },
    {
      "cell_type": "code",
      "source": [
        "!pip install gradio"
      ],
      "metadata": {
        "id": "Vl9PN5P_nNrY"
      },
      "execution_count": null,
      "outputs": []
    },
    {
      "cell_type": "code",
      "source": [
        "import gradio as gr"
      ],
      "metadata": {
        "id": "VIuznoSAnYcx"
      },
      "execution_count": null,
      "outputs": []
    },
    {
      "cell_type": "code",
      "source": [
        "labels = (\"A\", \"B\", \"C\", \"D\", \"E\",\n",
        "          \"F\", \"G\", \"H\", \"I\", \"J\", \"K\",\n",
        "          \"L\", \"M\", \"N\", \"O\", \"P\",\n",
        "          \"Q\", \"R\", \"S\", \"T\", \"U\",\n",
        "          \"V\", \"W\", \"X\", \"Y\", \"Z\")"
      ],
      "metadata": {
        "id": "1Kf2WMQ1naON"
      },
      "execution_count": null,
      "outputs": []
    },
    {
      "cell_type": "code",
      "source": [
        "from PIL import Image"
      ],
      "metadata": {
        "id": "dNBNArHhneM4"
      },
      "execution_count": null,
      "outputs": []
    },
    {
      "cell_type": "code",
      "source": [
        "def classify_image(inp):\n",
        "    inp = Image.fromarray(inp)\n",
        "    inp = inp.convert('L')\n",
        "    inp = inp.resize((64,64), Image.ANTIALIAS)\n",
        "    inp = np.array(inp)\n",
        "    inp = inp.reshape(-1, 64, 64, 1)\n",
        "    #inp = tf.keras.applications.mobilenet_v2.preprocess_input(inp)\n",
        "    inp = inp.astype('float32')\n",
        "    inp = inp / 255.\n",
        "    classes = new_model.predict(inp)\n",
        "    #return np.argmax(np.round(classes))\n",
        "    #return(inp.shape)\n",
        "    predicted_character = np.argmax(np.round(classes))\n",
        "    predicted_character_idx = (predicted_character+1)%26\n",
        "    return labels[predicted_character_idx]\n",
        "   # prediction = model.predict(inp).flatten()\n",
        "    #return {labels_2[i]: float(prediction[i]) for i in range(1000)}"
      ],
      "metadata": {
        "id": "jqhq0bN8niW1"
      },
      "execution_count": null,
      "outputs": []
    },
    {
      "cell_type": "code",
      "source": [
        "iface = gr.Interface(fn=classify_image, inputs = \"image\", outputs = \"text\", capture_session=True)\n",
        "iface.launch(debug=True)"
      ],
      "metadata": {
        "colab": {
          "base_uri": "https://localhost:8080/",
          "height": 695
        },
        "id": "MqWpIFfcnk6n",
        "outputId": "ceb53e73-8cda-4630-d712-c4833cf57656"
      },
      "execution_count": null,
      "outputs": [
        {
          "output_type": "stream",
          "name": "stderr",
          "text": [
            "/usr/local/lib/python3.7/dist-packages/gradio/deprecation.py:40: UserWarning: `capture_session` parameter is deprecated, and it has no effect\n",
            "  warnings.warn(value)\n"
          ]
        },
        {
          "output_type": "stream",
          "name": "stdout",
          "text": [
            "Colab notebook detected. This cell will run indefinitely so that you can see errors and logs. To turn off, set debug=False in launch().\n",
            "Running on public URL: https://17791.gradio.app\n",
            "\n",
            "This share link expires in 72 hours. For free permanent hosting, check out Spaces (https://huggingface.co/spaces)\n"
          ]
        },
        {
          "output_type": "display_data",
          "data": {
            "text/plain": [
              "<IPython.lib.display.IFrame at 0x7fbbd497fed0>"
            ],
            "text/html": [
              "\n",
              "        <iframe\n",
              "            width=\"900\"\n",
              "            height=\"500\"\n",
              "            src=\"https://17791.gradio.app\"\n",
              "            frameborder=\"0\"\n",
              "            allowfullscreen\n",
              "        ></iframe>\n",
              "        "
            ]
          },
          "metadata": {}
        },
        {
          "output_type": "stream",
          "name": "stdout",
          "text": [
            "Keyboard interruption in main thread... closing server.\n"
          ]
        },
        {
          "output_type": "execute_result",
          "data": {
            "text/plain": [
              "(<gradio.routes.App at 0x7fbbd4933e90>,\n",
              " 'http://127.0.0.1:7860/',\n",
              " 'https://17791.gradio.app')"
            ]
          },
          "metadata": {},
          "execution_count": 11
        }
      ]
    }
  ]
}